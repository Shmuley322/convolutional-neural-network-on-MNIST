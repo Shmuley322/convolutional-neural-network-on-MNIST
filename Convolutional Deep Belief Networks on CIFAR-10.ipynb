{
 "cells": [
  {
   "cell_type": "code",
   "execution_count": 4,
   "id": "0e68643e-106e-4133-8eaf-7ce90241f08d",
   "metadata": {},
   "outputs": [],
   "source": [
    "from datasets import load_dataset\n",
    "import numpy as np"
   ]
  },
  {
   "cell_type": "code",
   "execution_count": 2,
   "id": "4706eae3-0b9c-4f70-bda2-cd0eab1c36f4",
   "metadata": {},
   "outputs": [
    {
     "name": "stderr",
     "output_type": "stream",
     "text": [
      "Found cached dataset cifar10 (/home/shmuley/.cache/huggingface/datasets/cifar10/plain_text/1.0.0/447d6ec4733dddd1ce3bb577c7166b986eaa4c538dcd9e805ba61f35674a9de4)\n",
      "100%|█████████████████████████████████████████████████████████████████████████| 2/2 [00:00<00:00, 14.47it/s]\n"
     ]
    }
   ],
   "source": [
    "dataset = load_dataset('cifar10')"
   ]
  },
  {
   "cell_type": "code",
   "execution_count": 19,
   "id": "10d5f6d1-46aa-4b60-9110-7e188fe12597",
   "metadata": {},
   "outputs": [],
   "source": [
    "image = dataset['train'][0]['img']"
   ]
  },
  {
   "cell_type": "code",
   "execution_count": 20,
   "id": "580f71be-81ab-4603-87ff-d5da10494fa2",
   "metadata": {},
   "outputs": [],
   "source": [
    "image = image.convert('RGB')"
   ]
  },
  {
   "cell_type": "code",
   "execution_count": 21,
   "id": "868f06d0-533d-47b7-8c3d-03567267a534",
   "metadata": {},
   "outputs": [],
   "source": [
    "image = np.array(image)"
   ]
  },
  {
   "cell_type": "code",
   "execution_count": 31,
   "id": "3348a26d-2295-41b8-b0cb-27ba982c5f55",
   "metadata": {},
   "outputs": [
    {
     "data": {
      "text/plain": [
       "(32, 32)"
      ]
     },
     "execution_count": 31,
     "metadata": {},
     "output_type": "execute_result"
    }
   ],
   "source": [
    "image[:,:,0]"
   ]
  },
  {
   "cell_type": "code",
   "execution_count": 33,
   "id": "ea1090c0-fb4b-43fa-a72a-deda2fef0e5d",
   "metadata": {},
   "outputs": [],
   "source": [
    "from my_cnn.functional import convolve_2d"
   ]
  },
  {
   "cell_type": "code",
   "execution_count": 35,
   "id": "91822edb-cacf-418d-bee6-3cf11ebcece3",
   "metadata": {},
   "outputs": [],
   "source": [
    "kernel = np.random.rand(3,3)"
   ]
  },
  {
   "cell_type": "code",
   "execution_count": 36,
   "id": "73f97a8a-f7f6-4279-9f90-232dfec0ce95",
   "metadata": {},
   "outputs": [
    {
     "data": {
      "text/plain": [
       "array([[0.77751604, 0.13321648, 0.94671207],\n",
       "       [0.83653159, 0.64128579, 0.00467501],\n",
       "       [0.13876527, 0.67177809, 0.19111727]])"
      ]
     },
     "execution_count": 36,
     "metadata": {},
     "output_type": "execute_result"
    }
   ],
   "source": [
    "kernel"
   ]
  },
  {
   "cell_type": "code",
   "execution_count": 37,
   "id": "833ab1ab-9151-4d00-9863-3367df8a6000",
   "metadata": {},
   "outputs": [
    {
     "data": {
      "text/plain": [
       "array([[567.93777524, 578.7237189 , 593.72275124, ..., 559.75988351,\n",
       "        555.68562998, 549.9750051 ],\n",
       "       [672.91973477, 686.4861773 , 699.24616555, ..., 669.82381267,\n",
       "        664.13672505, 656.42816828],\n",
       "       [746.62426027, 761.06763718, 774.0481443 , ..., 751.83441787,\n",
       "        743.15589767, 733.4974056 ],\n",
       "       ...,\n",
       "       [460.72433873, 458.15131895, 453.56651981, ..., 435.62958364,\n",
       "        418.17722582, 445.20672281],\n",
       "       [457.66368123, 465.24539841, 471.89049997, ..., 448.69232049,\n",
       "        433.88677422, 436.55943671],\n",
       "       [441.95140334, 453.83856283, 470.92812131, ..., 427.6557182 ,\n",
       "        422.01425437, 420.41609818]])"
      ]
     },
     "execution_count": 37,
     "metadata": {},
     "output_type": "execute_result"
    }
   ],
   "source": [
    "convolve_2d(image[:,:,0],kernel)"
   ]
  },
  {
   "cell_type": "code",
   "execution_count": 1,
   "id": "0d5c8dae-583f-42c1-9d15-90a24a6c5ce5",
   "metadata": {},
   "outputs": [],
   "source": [
    "from my_cnn import layers\n",
    "from PIL import Image\n",
    "import numpy as np\n",
    "import matplotlib.pyplot as plt\n"
   ]
  },
  {
   "cell_type": "code",
   "execution_count": 2,
   "id": "61e9879b",
   "metadata": {},
   "outputs": [],
   "source": [
    "image = Image.open('data/image.jpg')"
   ]
  },
  {
   "cell_type": "code",
   "execution_count": 14,
   "id": "574110bf",
   "metadata": {},
   "outputs": [],
   "source": [
    "image.show()"
   ]
  },
  {
   "cell_type": "code",
   "execution_count": 3,
   "id": "4b2cda01",
   "metadata": {},
   "outputs": [],
   "source": [
    "convlayer = layers.Convolutional(18, 7)"
   ]
  },
  {
   "cell_type": "code",
   "execution_count": 4,
   "id": "9357b544",
   "metadata": {},
   "outputs": [
    {
     "data": {
      "text/plain": [
       "(256, 256)"
      ]
     },
     "execution_count": 4,
     "metadata": {},
     "output_type": "execute_result"
    }
   ],
   "source": [
    "np.asarray(image).shape[:2]"
   ]
  },
  {
   "cell_type": "code",
   "execution_count": 5,
   "id": "ea5a41c3",
   "metadata": {},
   "outputs": [],
   "source": [
    "out = convlayer.forward(np.asarray(image))"
   ]
  },
  {
   "cell_type": "code",
   "execution_count": 18,
   "id": "321277ab",
   "metadata": {},
   "outputs": [
    {
     "data": {
      "text/plain": [
       "<matplotlib.image.AxesImage at 0x2483a3e5e40>"
      ]
     },
     "execution_count": 18,
     "metadata": {},
     "output_type": "execute_result"
    },
    {
     "data": {
      "image/png": "[encoded data removed]",
      "text/plain": [
       "<Figure size 640x480 with 1 Axes>"
      ]
     },
     "metadata": {},
     "output_type": "display_data"
    }
   ],
   "source": [
    "plt.imshow(out[:,:,3], cmap='gray')"
   ]
  },
  {
   "cell_type": "code",
   "execution_count": 7,
   "id": "4faddcd7",
   "metadata": {},
   "outputs": [],
   "source": [
    "pool = layers.MaxPooling(4)\n",
    "out2 = pool.forward(out)"
   ]
  },
  {
   "cell_type": "code",
   "execution_count": 19,
   "id": "91d648cd",
   "metadata": {},
   "outputs": [
    {
     "data": {
      "text/plain": [
       "<matplotlib.image.AxesImage at 0x2483a45ddb0>"
      ]
     },
     "execution_count": 19,
     "metadata": {},
     "output_type": "execute_result"
    },
    {
     "data": {
      "image/png": "[encoded data removed]",
      "text/plain": [
       "<Figure size 640x480 with 1 Axes>"
      ]
     },
     "metadata": {},
     "output_type": "display_data"
    }
   ],
   "source": [
    "plt.imshow(out2[:,:,3], cmap='gray')"
   ]
  },
  {
   "cell_type": "code",
   "execution_count": 8,
   "id": "d9b141eb",
   "metadata": {},
   "outputs": [
    {
     "data": {
      "text/plain": [
       "(62, 62, 18)"
      ]
     },
     "execution_count": 8,
     "metadata": {},
     "output_type": "execute_result"
    }
   ],
   "source": [
    "out2.shape"
   ]
  },
  {
   "cell_type": "code",
   "execution_count": 9,
   "id": "89b348af",
   "metadata": {},
   "outputs": [
    {
     "name": "stdout",
     "output_type": "stream",
     "text": [
      "[9.43217329e-14 1.95755863e-12 2.33739545e-23 5.59447789e-13\n",
      " 5.92631168e-39 1.43779740e-21 1.46244041e-01 8.53755959e-01\n",
      " 8.27621026e-14 5.03164668e-20]\n"
     ]
    }
   ],
   "source": [
    "linear = layers.Linear(62 * 62 * 18, 10)\n",
    "out3 = linear.forward(out2)\n",
    "print(out3)"
   ]
  },
  {
   "cell_type": "code",
   "execution_count": null,
   "id": "fc123532",
   "metadata": {},
   "outputs": [],
   "source": []
  }
 ],
 "metadata": {
  "kernelspec": {
   "display_name": "TorchKernel",
   "language": "python",
   "name": "torchkernel"
  },
  "language_info": {
   "codemirror_mode": {
    "name": "ipython",
    "version": 3
   },
   "file_extension": ".py",
   "mimetype": "text/x-python",
   "name": "python",
   "nbconvert_exporter": "python",
   "pygments_lexer": "ipython3",
   "version": "3.10.9"
  }
 },
 "nbformat": 4,
 "nbformat_minor": 5
}
