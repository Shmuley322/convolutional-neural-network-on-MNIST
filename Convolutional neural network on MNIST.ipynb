{
 "cells": [
  {
   "cell_type": "markdown",
   "id": "7ec7aa3d",
   "metadata": {},
   "source": [
    "# Introduction"
   ]
  },
  {
   "cell_type": "markdown",
   "id": "1195c447",
   "metadata": {},
   "source": [
    "This project aims to build a convolutional neural network for multiclass image classification using numpy. Broadly, this is an extension of my [previous project](https://github.com/Shmuley322/multilayer-perceptron-on-MNIST) and consequently I tried  making up for the general shortcomings of my previous neural net in addition to moving up from MLP to CNN. \n",
    "\n",
    "Outline:\n",
    "- I first describe the network\n",
    "- Then I take the dataset from the [Digit Recognizer Kaggle Challenge](https://www.kaggle.com/competitions/digit-recognizer) to train my CNN\n",
    "- After that I make a prediction on the test data and submit it for evaluation\n",
    "- Finally, I discuss the problems I faced during creation of this network and whether I was able to improve compared to the previous project\n",
    "\n",
    "This notebook uses my network as a module, the source code for which can be found in the corresponding folder. "
   ]
  },
  {
   "cell_type": "markdown",
   "id": "05118f1c",
   "metadata": {},
   "source": [
    "# Network description"
   ]
  },
  {
   "cell_type": "code",
   "execution_count": 5,
   "id": "40e346d3",
   "metadata": {},
   "outputs": [],
   "source": [
    "import numpy as np\n",
    "import pandas as pd\n",
    "import matplotlib.pyplot as plt\n",
    "\n",
    "from my_cnn.CNN import Classifier"
   ]
  },
  {
   "cell_type": "markdown",
   "id": "3e582549",
   "metadata": {},
   "source": [
    "Classifier is a CNN that may consist of any number and sequence of convolutional, max pooling and fully connected linear layers. All of the layers are connected sequentially. Following is a description of each layer in detail:\n",
    "\n",
    "Convolutional layer:\n",
    "- supports any number of kernels\n",
    "- activated with ReLU\n",
    "- performs convolution with a square kernel, 0 padding and stride 1\n",
    "\n",
    "Max pooling layer:\n",
    "- performs max pooling with a square kernel, 0 padding and stride 1\n",
    "- does not learn\n",
    "\n",
    "Linear layer: \n",
    "- number of neurons is equal to the product of dimensions of an output of a reduction of previous layers, in other words it is fully connected with neurons of a previous layer\n",
    "- activated with softmax\n",
    "\n",
    "Loss function is cross-entropy. "
   ]
  },
  {
   "cell_type": "markdown",
   "id": "af24d293",
   "metadata": {},
   "source": [
    "# Model initialization and training"
   ]
  },
  {
   "cell_type": "markdown",
   "id": "0e4c3e05",
   "metadata": {},
   "source": [
    "Import the data and do some preprocessing"
   ]
  },
  {
   "cell_type": "code",
   "execution_count": 2,
   "id": "526437db",
   "metadata": {},
   "outputs": [],
   "source": [
    "train_data = pd.read_csv('data/mnist_train.csv')\n",
    "y_train = train_data['label'].astype(np.int8)\n",
    "X_train = train_data.drop(['label'], axis=1).to_numpy().reshape((len(train_data), 28, 28))\n",
    "X_train = (X_train / 255).astype(np.float32)"
   ]
  },
  {
   "cell_type": "markdown",
   "id": "85598a29",
   "metadata": {},
   "source": [
    "The classifier will consists of a convolutional layer with 7 6x6 kernels, a max pooling layer with a 4x4 kernel and a linear layer with an output size of 10. "
   ]
  },
  {
   "cell_type": "code",
   "execution_count": 6,
   "id": "493d7c31",
   "metadata": {},
   "outputs": [],
   "source": [
    "architecture = 'conv pool lin'\n",
    "n_classes = len(set(y_train))\n",
    "layer_params = [(6, 10), (4,), (n_classes)]\n",
    "input_size = X_train[0].shape"
   ]
  },
  {
   "cell_type": "markdown",
   "id": "93373ddb",
   "metadata": {},
   "source": [
    "Initialize the model and train it"
   ]
  },
  {
   "cell_type": "code",
   "execution_count": 7,
   "id": "da27c299",
   "metadata": {},
   "outputs": [
    {
     "name": "stdout",
     "output_type": "stream",
     "text": [
      "Epoch 1/10, sample 41999/42000, loss 0.53318\n",
      "Loss: 0.533\t balanced accuracy on train: 0.849\n",
      "Epoch 2/10, sample 21068/42000, loss 0.17500\r"
     ]
    },
    {
     "ename": "KeyboardInterrupt",
     "evalue": "",
     "output_type": "error",
     "traceback": [
      "\u001b[1;31m---------------------------------------------------------------------------\u001b[0m",
      "\u001b[1;31mKeyboardInterrupt\u001b[0m                         Traceback (most recent call last)",
      "Cell \u001b[1;32mIn[7], line 2\u001b[0m\n\u001b[0;32m      1\u001b[0m cfr \u001b[39m=\u001b[39m Classifier(architecture, layer_params, n_classes, input_size)\n\u001b[1;32m----> 2\u001b[0m cfr\u001b[39m.\u001b[39;49mfit(X_train, y_train, learning_rate\u001b[39m=\u001b[39;49m\u001b[39m1e-3\u001b[39;49m, n_epochs\u001b[39m=\u001b[39;49m\u001b[39m10\u001b[39;49m)\n",
      "File \u001b[1;32mc:\\Users\\Shmuley\\Documents\\Courses\\ML projects\\Kaggle\\convolutional neural network on MNIST\\my_cnn\\CNN.py:80\u001b[0m, in \u001b[0;36mClassifier.fit\u001b[1;34m(self, X_train, y_train, learning_rate, n_epochs)\u001b[0m\n\u001b[0;32m     77\u001b[0m running_loss \u001b[39m=\u001b[39m []\n\u001b[0;32m     79\u001b[0m \u001b[39mfor\u001b[39;00m sample \u001b[39min\u001b[39;00m \u001b[39mrange\u001b[39m(train_size):\n\u001b[1;32m---> 80\u001b[0m     mean_loss \u001b[39m=\u001b[39m np\u001b[39m.\u001b[39;49mmean(running_loss) \u001b[39mif\u001b[39;00m running_loss \u001b[39melse\u001b[39;00m \u001b[39m0\u001b[39m\n\u001b[0;32m     81\u001b[0m     \u001b[39mprint\u001b[39m(\u001b[39mf\u001b[39m\u001b[39m'\u001b[39m\u001b[39mEpoch \u001b[39m\u001b[39m{\u001b[39;00mepoch\u001b[39m}\u001b[39;00m\u001b[39m/\u001b[39m\u001b[39m{\u001b[39;00mn_epochs\u001b[39m}\u001b[39;00m\u001b[39m, sample \u001b[39m\u001b[39m{\u001b[39;00msample\u001b[39m}\u001b[39;00m\u001b[39m/\u001b[39m\u001b[39m{\u001b[39;00mtrain_size\u001b[39m}\u001b[39;00m\u001b[39m, loss \u001b[39m\u001b[39m{\u001b[39;00mmean_loss\u001b[39m:\u001b[39;00m\u001b[39m.5f\u001b[39m\u001b[39m}\u001b[39;00m\u001b[39m'\u001b[39m,\n\u001b[0;32m     82\u001b[0m           end\u001b[39m=\u001b[39m\u001b[39m'\u001b[39m\u001b[39m\\r\u001b[39;00m\u001b[39m'\u001b[39m)\n\u001b[0;32m     83\u001b[0m     image \u001b[39m=\u001b[39m X_train[sample]\n",
      "File \u001b[1;32m<__array_function__ internals>:180\u001b[0m, in \u001b[0;36mmean\u001b[1;34m(*args, **kwargs)\u001b[0m\n",
      "File \u001b[1;32mc:\\Users\\Shmuley\\anaconda3\\envs\\TorchEnv\\lib\\site-packages\\numpy\\core\\fromnumeric.py:3432\u001b[0m, in \u001b[0;36mmean\u001b[1;34m(a, axis, dtype, out, keepdims, where)\u001b[0m\n\u001b[0;32m   3429\u001b[0m     \u001b[39melse\u001b[39;00m:\n\u001b[0;32m   3430\u001b[0m         \u001b[39mreturn\u001b[39;00m mean(axis\u001b[39m=\u001b[39maxis, dtype\u001b[39m=\u001b[39mdtype, out\u001b[39m=\u001b[39mout, \u001b[39m*\u001b[39m\u001b[39m*\u001b[39mkwargs)\n\u001b[1;32m-> 3432\u001b[0m \u001b[39mreturn\u001b[39;00m _methods\u001b[39m.\u001b[39m_mean(a, axis\u001b[39m=\u001b[39maxis, dtype\u001b[39m=\u001b[39mdtype,\n\u001b[0;32m   3433\u001b[0m                       out\u001b[39m=\u001b[39mout, \u001b[39m*\u001b[39m\u001b[39m*\u001b[39mkwargs)\n",
      "File \u001b[1;32mc:\\Users\\Shmuley\\anaconda3\\envs\\TorchEnv\\lib\\site-packages\\numpy\\core\\_methods.py:180\u001b[0m, in \u001b[0;36m_mean\u001b[1;34m(a, axis, dtype, out, keepdims, where)\u001b[0m\n\u001b[0;32m    177\u001b[0m         dtype \u001b[39m=\u001b[39m mu\u001b[39m.\u001b[39mdtype(\u001b[39m'\u001b[39m\u001b[39mf4\u001b[39m\u001b[39m'\u001b[39m)\n\u001b[0;32m    178\u001b[0m         is_float16_result \u001b[39m=\u001b[39m \u001b[39mTrue\u001b[39;00m\n\u001b[1;32m--> 180\u001b[0m ret \u001b[39m=\u001b[39m umr_sum(arr, axis, dtype, out, keepdims, where\u001b[39m=\u001b[39;49mwhere)\n\u001b[0;32m    181\u001b[0m \u001b[39mif\u001b[39;00m \u001b[39misinstance\u001b[39m(ret, mu\u001b[39m.\u001b[39mndarray):\n\u001b[0;32m    182\u001b[0m     ret \u001b[39m=\u001b[39m um\u001b[39m.\u001b[39mtrue_divide(\n\u001b[0;32m    183\u001b[0m             ret, rcount, out\u001b[39m=\u001b[39mret, casting\u001b[39m=\u001b[39m\u001b[39m'\u001b[39m\u001b[39munsafe\u001b[39m\u001b[39m'\u001b[39m, subok\u001b[39m=\u001b[39m\u001b[39mFalse\u001b[39;00m)\n",
      "\u001b[1;31mKeyboardInterrupt\u001b[0m: "
     ]
    }
   ],
   "source": [
    "cfr = Classifier(architecture, layer_params, n_classes, input_size)\n",
    "cfr.fit(X_train, y_train, learning_rate=1e-3, n_epochs=10)"
   ]
  },
  {
   "cell_type": "code",
   "execution_count": null,
   "id": "f5af1476",
   "metadata": {},
   "outputs": [],
   "source": []
  },
  {
   "cell_type": "code",
   "execution_count": null,
   "id": "fc2d0539",
   "metadata": {},
   "outputs": [],
   "source": []
  },
  {
   "cell_type": "code",
   "execution_count": null,
   "id": "6608b461",
   "metadata": {},
   "outputs": [],
   "source": []
  },
  {
   "cell_type": "code",
   "execution_count": 9,
   "id": "4fcc2438",
   "metadata": {},
   "outputs": [],
   "source": [
    "import pickle\n",
    "with open('model3.pkl', 'rb') as file:\n",
    "    cfr2 = pickle.load(file)"
   ]
  },
  {
   "cell_type": "code",
   "execution_count": 10,
   "id": "e6e74612",
   "metadata": {},
   "outputs": [
    {
     "data": {
      "text/plain": [
       "7"
      ]
     },
     "execution_count": 10,
     "metadata": {},
     "output_type": "execute_result"
    }
   ],
   "source": [
    "n_kernels = cfr2.layers[0].kernel.shape[2]\n",
    "n_kernels"
   ]
  },
  {
   "cell_type": "code",
   "execution_count": 11,
   "id": "09103017",
   "metadata": {},
   "outputs": [],
   "source": [
    "test_data = pd.read_csv('data/mnist_test.csv')\n",
    "X_test = test_data.to_numpy().reshape((len(test_data), 28, 28))\n",
    "X_test = (X_test / 255).astype(np.float32)"
   ]
  },
  {
   "cell_type": "code",
   "execution_count": 15,
   "id": "703076ac",
   "metadata": {},
   "outputs": [],
   "source": [
    "prediction = cfr2.predict(X_test[0:1])"
   ]
  },
  {
   "cell_type": "code",
   "execution_count": 13,
   "id": "8de4c1b3",
   "metadata": {},
   "outputs": [],
   "source": [
    "y_pred = pd.DataFrame(prediction, columns=['Label'])\n",
    "y_pred.index += 1\n",
    "y_pred['Label'].to_csv('data/submission.csv', index_label='ImageId')"
   ]
  },
  {
   "cell_type": "markdown",
   "id": "b4db780c",
   "metadata": {},
   "source": []
  },
  {
   "cell_type": "code",
   "execution_count": 23,
   "id": "eb7cc9c1",
   "metadata": {},
   "outputs": [
    {
     "data": {
      "image/png": "[encoded data removed]",
      "text/plain": [
       "<Figure size 700x500 with 7 Axes>"
      ]
     },
     "metadata": {},
     "output_type": "display_data"
    }
   ],
   "source": [
    "fig, ax = plt.subplots(1, n_kernels, figsize=(n_kernels, 5))\n",
    "for i in range(n_kernels):\n",
    "    ax[i].imshow(cfr2.layers[0].kernel[:,:,i], cmap='gray')\n",
    "    ax[i].axis('off')\n",
    "    ax[i].set_title(f'Kernel {i + 1}')"
   ]
  },
  {
   "cell_type": "markdown",
   "id": "d7634fc0",
   "metadata": {},
   "source": [
    "Big thanks to [Ahlad Kumar](https://www.youtube.com/@AhladKumar) for his [series](https://www.youtube.com/playlist?list=PLdxQ7SoCLQAMeMPpRvqXJjBSmKey0SdlH) on CNN."
   ]
  },
  {
   "cell_type": "markdown",
   "id": "1393e39d",
   "metadata": {},
   "source": [
    "cupy did not work\n",
    "numba did not work\n",
    "Todo: hyperparameter tuning"
   ]
  },
  {
   "cell_type": "code",
   "execution_count": 7,
   "id": "c34d570a",
   "metadata": {},
   "outputs": [
    {
     "name": "stdout",
     "output_type": "stream",
     "text": [
      "Sample 9881, accuracy 0.9755085516672899\r"
     ]
    },
    {
     "ename": "KeyboardInterrupt",
     "evalue": "",
     "output_type": "error",
     "traceback": [
      "\u001b[1;31m---------------------------------------------------------------------------\u001b[0m",
      "\u001b[1;31mKeyboardInterrupt\u001b[0m                         Traceback (most recent call last)",
      "Cell \u001b[1;32mIn[7], line 7\u001b[0m\n\u001b[0;32m      5\u001b[0m \u001b[39mfor\u001b[39;00m sample \u001b[39min\u001b[39;00m samples:\n\u001b[0;32m      6\u001b[0m     \u001b[39mprint\u001b[39m(\u001b[39mf\u001b[39m\u001b[39m'\u001b[39m\u001b[39mSample \u001b[39m\u001b[39m{\u001b[39;00msample\u001b[39m}\u001b[39;00m\u001b[39m, accuracy \u001b[39m\u001b[39m{\u001b[39;00mcorrect \u001b[39m/\u001b[39m (sample \u001b[39m+\u001b[39m \u001b[39m1e-6\u001b[39m)\u001b[39m}\u001b[39;00m\u001b[39m'\u001b[39m, end\u001b[39m=\u001b[39m\u001b[39m'\u001b[39m\u001b[39m\\r\u001b[39;00m\u001b[39m'\u001b[39m)\n\u001b[1;32m----> 7\u001b[0m     out \u001b[39m=\u001b[39m cfr\u001b[39m.\u001b[39;49mpredict(X_train[sample])\n\u001b[0;32m      8\u001b[0m     true_label \u001b[39m=\u001b[39m y_train[sample]\n\u001b[0;32m      9\u001b[0m     correct \u001b[39m+\u001b[39m\u001b[39m=\u001b[39m out \u001b[39m==\u001b[39m true_label\n",
      "File \u001b[1;32mc:\\Users\\Shmuley\\Documents\\Courses\\ML projects\\Kaggle\\Convolutional Deep Belief Networks on CIFAR-10\\my_cnn\\CNN.py:93\u001b[0m, in \u001b[0;36mpredict\u001b[1;34m(self, image)\u001b[0m\n\u001b[0;32m     91\u001b[0m     \u001b[39mself\u001b[39m\u001b[39m.\u001b[39mmetrics[\u001b[39m'\u001b[39m\u001b[39mprecision\u001b[39m\u001b[39m'\u001b[39m]\u001b[39m.\u001b[39mappend(precision_score(y_train, y_pred, average\u001b[39m=\u001b[39m\u001b[39m'\u001b[39m\u001b[39mmicro\u001b[39m\u001b[39m'\u001b[39m))\n\u001b[0;32m     92\u001b[0m     \u001b[39mself\u001b[39m\u001b[39m.\u001b[39mmetrics[\u001b[39m'\u001b[39m\u001b[39mloss\u001b[39m\u001b[39m'\u001b[39m]\u001b[39m.\u001b[39mappend(np\u001b[39m.\u001b[39mmean(running_loss))\n\u001b[1;32m---> 93\u001b[0m     \u001b[39mprint\u001b[39m(\u001b[39mf\u001b[39m\u001b[39m'\u001b[39m\u001b[39mEpoch: \u001b[39m\u001b[39m{\u001b[39;00mepoch\u001b[39m}\u001b[39;00m\u001b[39m/\u001b[39m\u001b[39m{\u001b[39;00mn_epochs\u001b[39m}\u001b[39;00m\u001b[39m\\t\u001b[39;00m\u001b[39mloss: \u001b[39m\u001b[39m{\u001b[39;00mnp\u001b[39m.\u001b[39mmean(running_loss)\u001b[39m:\u001b[39;00m\u001b[39m.3f\u001b[39m\u001b[39m}\u001b[39;00m\u001b[39m\\t\u001b[39;00m\u001b[39m'\u001b[39m,\\\n\u001b[0;32m     94\u001b[0m             \u001b[39mf\u001b[39m\u001b[39m'\u001b[39m\u001b[39mbalanced accuracy on train: \u001b[39m\u001b[39m{\u001b[39;00mbalanced_accuracy_score(y_train, y_pred)\u001b[39m:\u001b[39;00m\u001b[39m.3f\u001b[39m\u001b[39m}\u001b[39;00m\u001b[39m'\u001b[39m)\n\u001b[0;32m     96\u001b[0m \u001b[39mself\u001b[39m\u001b[39m.\u001b[39mtrained \u001b[39m=\u001b[39m \u001b[39mTrue\u001b[39;00m\n",
      "File \u001b[1;32mc:\\Users\\Shmuley\\Documents\\Courses\\ML projects\\Kaggle\\Convolutional Deep Belief Networks on CIFAR-10\\my_cnn\\CNN.py:40\u001b[0m, in \u001b[0;36mforward\u001b[1;34m(self, image)\u001b[0m\n\u001b[0;32m     38\u001b[0m \u001b[39mself\u001b[39m\u001b[39m.\u001b[39mlayers \u001b[39m=\u001b[39m []\n\u001b[0;32m     39\u001b[0m \u001b[39mfor\u001b[39;00m i, layer_type \u001b[39min\u001b[39;00m \u001b[39menumerate\u001b[39m(architecture):\n\u001b[1;32m---> 40\u001b[0m     \u001b[39mif\u001b[39;00m layer_type \u001b[39m==\u001b[39m \u001b[39m'\u001b[39m\u001b[39mlin\u001b[39m\u001b[39m'\u001b[39m:\n\u001b[0;32m     41\u001b[0m         \u001b[39m#This gets input size for a linear layer by doing a \u001b[39;00m\n\u001b[0;32m     42\u001b[0m         \u001b[39m# forward pass with an empty matrix\u001b[39;00m\n\u001b[0;32m     43\u001b[0m         \u001b[39massert\u001b[39;00m \u001b[39mself\u001b[39m\u001b[39m.\u001b[39mlayers, \u001b[39m'\u001b[39m\u001b[39mLinear layer can not be first\u001b[39m\u001b[39m'\u001b[39m\n\u001b[0;32m     44\u001b[0m         dummy \u001b[39m=\u001b[39m functools\u001b[39m.\u001b[39mreduce(\u001b[39mlambda\u001b[39;00m x, y: y(x), \u001b[39mself\u001b[39m\u001b[39m.\u001b[39mlayers, np\u001b[39m.\u001b[39mzeros(input_size))\n",
      "File \u001b[1;32mc:\\Users\\Shmuley\\Documents\\Courses\\ML projects\\Kaggle\\Convolutional Deep Belief Networks on CIFAR-10\\my_cnn\\CNN.py:40\u001b[0m, in \u001b[0;36m<lambda>\u001b[1;34m(x, y)\u001b[0m\n\u001b[0;32m     38\u001b[0m \u001b[39mself\u001b[39m\u001b[39m.\u001b[39mlayers \u001b[39m=\u001b[39m []\n\u001b[0;32m     39\u001b[0m \u001b[39mfor\u001b[39;00m i, layer_type \u001b[39min\u001b[39;00m \u001b[39menumerate\u001b[39m(architecture):\n\u001b[1;32m---> 40\u001b[0m     \u001b[39mif\u001b[39;00m layer_type \u001b[39m==\u001b[39m \u001b[39m'\u001b[39m\u001b[39mlin\u001b[39m\u001b[39m'\u001b[39m:\n\u001b[0;32m     41\u001b[0m         \u001b[39m#This gets input size for a linear layer by doing a \u001b[39;00m\n\u001b[0;32m     42\u001b[0m         \u001b[39m# forward pass with an empty matrix\u001b[39;00m\n\u001b[0;32m     43\u001b[0m         \u001b[39massert\u001b[39;00m \u001b[39mself\u001b[39m\u001b[39m.\u001b[39mlayers, \u001b[39m'\u001b[39m\u001b[39mLinear layer can not be first\u001b[39m\u001b[39m'\u001b[39m\n\u001b[0;32m     44\u001b[0m         dummy \u001b[39m=\u001b[39m functools\u001b[39m.\u001b[39mreduce(\u001b[39mlambda\u001b[39;00m x, y: y(x), \u001b[39mself\u001b[39m\u001b[39m.\u001b[39mlayers, np\u001b[39m.\u001b[39mzeros(input_size))\n",
      "File \u001b[1;32mc:\\Users\\Shmuley\\Documents\\Courses\\ML projects\\Kaggle\\Convolutional Deep Belief Networks on CIFAR-10\\my_cnn\\layers.py:66\u001b[0m, in \u001b[0;36mforward\u001b[1;34m(self, image)\u001b[0m\n\u001b[0;32m     61\u001b[0m \u001b[39mdef\u001b[39;00m \u001b[39m__init__\u001b[39m(\u001b[39mself\u001b[39m, kernel_size):\n\u001b[0;32m     62\u001b[0m     \u001b[39m'''\u001b[39;00m\n\u001b[0;32m     63\u001b[0m \u001b[39m    Arguments:\u001b[39;00m\n\u001b[0;32m     64\u001b[0m \u001b[39m        kernel_size (int): kernel side length\u001b[39;00m\n\u001b[0;32m     65\u001b[0m \u001b[39m    '''\u001b[39;00m\n\u001b[1;32m---> 66\u001b[0m     \u001b[39mself\u001b[39m\u001b[39m.\u001b[39mkernel_size \u001b[39m=\u001b[39m kernel_size\n\u001b[0;32m     67\u001b[0m     \u001b[39mself\u001b[39m\u001b[39m.\u001b[39mparams \u001b[39m=\u001b[39m {\n\u001b[0;32m     68\u001b[0m         \u001b[39m'\u001b[39m\u001b[39mkernel size\u001b[39m\u001b[39m'\u001b[39m: kernel_size,\n\u001b[0;32m     69\u001b[0m     }\n",
      "\u001b[1;31mKeyboardInterrupt\u001b[0m: "
     ]
    }
   ],
   "source": [
    "n_samples = len(X_train)\n",
    "start = 0\n",
    "samples = range(start, start + n_samples)\n",
    "correct = 0\n",
    "for sample in samples:\n",
    "    print(f'Sample {sample}, accuracy {correct / (sample + 1e-6)}', end='\\r')\n",
    "    out = cfr.predict(X_train[sample])\n",
    "    true_label = y_train[sample]\n",
    "    correct += out == true_label"
   ]
  }
 ],
 "metadata": {
  "kernelspec": {
   "display_name": "TorchKernel",
   "language": "python",
   "name": "torchkernel"
  },
  "language_info": {
   "codemirror_mode": {
    "name": "ipython",
    "version": 3
   },
   "file_extension": ".py",
   "mimetype": "text/x-python",
   "name": "python",
   "nbconvert_exporter": "python",
   "pygments_lexer": "ipython3",
   "version": "3.10.9"
  }
 },
 "nbformat": 4,
 "nbformat_minor": 5
}
