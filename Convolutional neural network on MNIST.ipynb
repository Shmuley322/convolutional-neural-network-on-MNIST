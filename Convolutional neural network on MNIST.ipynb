{
 "cells": [
  {
   "cell_type": "code",
   "execution_count": 1,
   "id": "40e346d3",
   "metadata": {},
   "outputs": [],
   "source": [
    "import numpy as np\n",
    "from my_cnn.CNN import Classifier\n",
    "import pandas as pd\n",
    "import matplotlib.pyplot as plt"
   ]
  },
  {
   "cell_type": "code",
   "execution_count": 2,
   "id": "526437db",
   "metadata": {},
   "outputs": [],
   "source": [
    "train_data = pd.read_csv('data/mnist_train.csv')\n",
    "y_train = train_data['label'].astype(np.int8)\n",
    "X_train = train_data.drop(['label'], axis=1).to_numpy().reshape((42000, 28, 28))\n",
    "X_train = (X_train / 255).astype(np.float32)"
   ]
  },
  {
   "cell_type": "code",
   "execution_count": 5,
   "id": "da27c299",
   "metadata": {},
   "outputs": [],
   "source": [
    "architecture = 'conv pool lin'\n",
    "n_classes = len(set(y_train))\n",
    "layer_params = [(6, 7), (4,), (n_classes)]\n",
    "input_size = X_train[0].shape\n",
    "\n",
    "cfr = Classifier(architecture, layer_params, n_classes, input_size)"
   ]
  },
  {
   "cell_type": "code",
   "execution_count": null,
   "id": "12697b77",
   "metadata": {},
   "outputs": [],
   "source": [
    "cfr.fit(X_train, y_train, learning_rate=1e-3, n_epochs=10)"
   ]
  },
  {
   "cell_type": "code",
   "execution_count": 6,
   "id": "8462ed90",
   "metadata": {},
   "outputs": [],
   "source": [
    "import pickle\n",
    "\n",
    "with open('model3.pkl', 'wb') as file:\n",
    "    pickle.dump(cfr, file)"
   ]
  },
  {
   "cell_type": "code",
   "execution_count": 7,
   "id": "c34d570a",
   "metadata": {},
   "outputs": [
    {
     "name": "stdout",
     "output_type": "stream",
     "text": [
      "Sample 9881, accuracy 0.9755085516672899\r"
     ]
    },
    {
     "ename": "KeyboardInterrupt",
     "evalue": "",
     "output_type": "error",
     "traceback": [
      "\u001b[1;31m---------------------------------------------------------------------------\u001b[0m",
      "\u001b[1;31mKeyboardInterrupt\u001b[0m                         Traceback (most recent call last)",
      "Cell \u001b[1;32mIn[7], line 7\u001b[0m\n\u001b[0;32m      5\u001b[0m \u001b[39mfor\u001b[39;00m sample \u001b[39min\u001b[39;00m samples:\n\u001b[0;32m      6\u001b[0m     \u001b[39mprint\u001b[39m(\u001b[39mf\u001b[39m\u001b[39m'\u001b[39m\u001b[39mSample \u001b[39m\u001b[39m{\u001b[39;00msample\u001b[39m}\u001b[39;00m\u001b[39m, accuracy \u001b[39m\u001b[39m{\u001b[39;00mcorrect \u001b[39m/\u001b[39m (sample \u001b[39m+\u001b[39m \u001b[39m1e-6\u001b[39m)\u001b[39m}\u001b[39;00m\u001b[39m'\u001b[39m, end\u001b[39m=\u001b[39m\u001b[39m'\u001b[39m\u001b[39m\\r\u001b[39;00m\u001b[39m'\u001b[39m)\n\u001b[1;32m----> 7\u001b[0m     out \u001b[39m=\u001b[39m cfr\u001b[39m.\u001b[39;49mpredict(X_train[sample])\n\u001b[0;32m      8\u001b[0m     true_label \u001b[39m=\u001b[39m y_train[sample]\n\u001b[0;32m      9\u001b[0m     correct \u001b[39m+\u001b[39m\u001b[39m=\u001b[39m out \u001b[39m==\u001b[39m true_label\n",
      "File \u001b[1;32mc:\\Users\\Shmuley\\Documents\\Courses\\ML projects\\Kaggle\\Convolutional Deep Belief Networks on CIFAR-10\\my_cnn\\CNN.py:93\u001b[0m, in \u001b[0;36mpredict\u001b[1;34m(self, image)\u001b[0m\n\u001b[0;32m     91\u001b[0m     \u001b[39mself\u001b[39m\u001b[39m.\u001b[39mmetrics[\u001b[39m'\u001b[39m\u001b[39mprecision\u001b[39m\u001b[39m'\u001b[39m]\u001b[39m.\u001b[39mappend(precision_score(y_train, y_pred, average\u001b[39m=\u001b[39m\u001b[39m'\u001b[39m\u001b[39mmicro\u001b[39m\u001b[39m'\u001b[39m))\n\u001b[0;32m     92\u001b[0m     \u001b[39mself\u001b[39m\u001b[39m.\u001b[39mmetrics[\u001b[39m'\u001b[39m\u001b[39mloss\u001b[39m\u001b[39m'\u001b[39m]\u001b[39m.\u001b[39mappend(np\u001b[39m.\u001b[39mmean(running_loss))\n\u001b[1;32m---> 93\u001b[0m     \u001b[39mprint\u001b[39m(\u001b[39mf\u001b[39m\u001b[39m'\u001b[39m\u001b[39mEpoch: \u001b[39m\u001b[39m{\u001b[39;00mepoch\u001b[39m}\u001b[39;00m\u001b[39m/\u001b[39m\u001b[39m{\u001b[39;00mn_epochs\u001b[39m}\u001b[39;00m\u001b[39m\\t\u001b[39;00m\u001b[39mloss: \u001b[39m\u001b[39m{\u001b[39;00mnp\u001b[39m.\u001b[39mmean(running_loss)\u001b[39m:\u001b[39;00m\u001b[39m.3f\u001b[39m\u001b[39m}\u001b[39;00m\u001b[39m\\t\u001b[39;00m\u001b[39m'\u001b[39m,\\\n\u001b[0;32m     94\u001b[0m             \u001b[39mf\u001b[39m\u001b[39m'\u001b[39m\u001b[39mbalanced accuracy on train: \u001b[39m\u001b[39m{\u001b[39;00mbalanced_accuracy_score(y_train, y_pred)\u001b[39m:\u001b[39;00m\u001b[39m.3f\u001b[39m\u001b[39m}\u001b[39;00m\u001b[39m'\u001b[39m)\n\u001b[0;32m     96\u001b[0m \u001b[39mself\u001b[39m\u001b[39m.\u001b[39mtrained \u001b[39m=\u001b[39m \u001b[39mTrue\u001b[39;00m\n",
      "File \u001b[1;32mc:\\Users\\Shmuley\\Documents\\Courses\\ML projects\\Kaggle\\Convolutional Deep Belief Networks on CIFAR-10\\my_cnn\\CNN.py:40\u001b[0m, in \u001b[0;36mforward\u001b[1;34m(self, image)\u001b[0m\n\u001b[0;32m     38\u001b[0m \u001b[39mself\u001b[39m\u001b[39m.\u001b[39mlayers \u001b[39m=\u001b[39m []\n\u001b[0;32m     39\u001b[0m \u001b[39mfor\u001b[39;00m i, layer_type \u001b[39min\u001b[39;00m \u001b[39menumerate\u001b[39m(architecture):\n\u001b[1;32m---> 40\u001b[0m     \u001b[39mif\u001b[39;00m layer_type \u001b[39m==\u001b[39m \u001b[39m'\u001b[39m\u001b[39mlin\u001b[39m\u001b[39m'\u001b[39m:\n\u001b[0;32m     41\u001b[0m         \u001b[39m#This gets input size for a linear layer by doing a \u001b[39;00m\n\u001b[0;32m     42\u001b[0m         \u001b[39m# forward pass with an empty matrix\u001b[39;00m\n\u001b[0;32m     43\u001b[0m         \u001b[39massert\u001b[39;00m \u001b[39mself\u001b[39m\u001b[39m.\u001b[39mlayers, \u001b[39m'\u001b[39m\u001b[39mLinear layer can not be first\u001b[39m\u001b[39m'\u001b[39m\n\u001b[0;32m     44\u001b[0m         dummy \u001b[39m=\u001b[39m functools\u001b[39m.\u001b[39mreduce(\u001b[39mlambda\u001b[39;00m x, y: y(x), \u001b[39mself\u001b[39m\u001b[39m.\u001b[39mlayers, np\u001b[39m.\u001b[39mzeros(input_size))\n",
      "File \u001b[1;32mc:\\Users\\Shmuley\\Documents\\Courses\\ML projects\\Kaggle\\Convolutional Deep Belief Networks on CIFAR-10\\my_cnn\\CNN.py:40\u001b[0m, in \u001b[0;36m<lambda>\u001b[1;34m(x, y)\u001b[0m\n\u001b[0;32m     38\u001b[0m \u001b[39mself\u001b[39m\u001b[39m.\u001b[39mlayers \u001b[39m=\u001b[39m []\n\u001b[0;32m     39\u001b[0m \u001b[39mfor\u001b[39;00m i, layer_type \u001b[39min\u001b[39;00m \u001b[39menumerate\u001b[39m(architecture):\n\u001b[1;32m---> 40\u001b[0m     \u001b[39mif\u001b[39;00m layer_type \u001b[39m==\u001b[39m \u001b[39m'\u001b[39m\u001b[39mlin\u001b[39m\u001b[39m'\u001b[39m:\n\u001b[0;32m     41\u001b[0m         \u001b[39m#This gets input size for a linear layer by doing a \u001b[39;00m\n\u001b[0;32m     42\u001b[0m         \u001b[39m# forward pass with an empty matrix\u001b[39;00m\n\u001b[0;32m     43\u001b[0m         \u001b[39massert\u001b[39;00m \u001b[39mself\u001b[39m\u001b[39m.\u001b[39mlayers, \u001b[39m'\u001b[39m\u001b[39mLinear layer can not be first\u001b[39m\u001b[39m'\u001b[39m\n\u001b[0;32m     44\u001b[0m         dummy \u001b[39m=\u001b[39m functools\u001b[39m.\u001b[39mreduce(\u001b[39mlambda\u001b[39;00m x, y: y(x), \u001b[39mself\u001b[39m\u001b[39m.\u001b[39mlayers, np\u001b[39m.\u001b[39mzeros(input_size))\n",
      "File \u001b[1;32mc:\\Users\\Shmuley\\Documents\\Courses\\ML projects\\Kaggle\\Convolutional Deep Belief Networks on CIFAR-10\\my_cnn\\layers.py:66\u001b[0m, in \u001b[0;36mforward\u001b[1;34m(self, image)\u001b[0m\n\u001b[0;32m     61\u001b[0m \u001b[39mdef\u001b[39;00m \u001b[39m__init__\u001b[39m(\u001b[39mself\u001b[39m, kernel_size):\n\u001b[0;32m     62\u001b[0m     \u001b[39m'''\u001b[39;00m\n\u001b[0;32m     63\u001b[0m \u001b[39m    Arguments:\u001b[39;00m\n\u001b[0;32m     64\u001b[0m \u001b[39m        kernel_size (int): kernel side length\u001b[39;00m\n\u001b[0;32m     65\u001b[0m \u001b[39m    '''\u001b[39;00m\n\u001b[1;32m---> 66\u001b[0m     \u001b[39mself\u001b[39m\u001b[39m.\u001b[39mkernel_size \u001b[39m=\u001b[39m kernel_size\n\u001b[0;32m     67\u001b[0m     \u001b[39mself\u001b[39m\u001b[39m.\u001b[39mparams \u001b[39m=\u001b[39m {\n\u001b[0;32m     68\u001b[0m         \u001b[39m'\u001b[39m\u001b[39mkernel size\u001b[39m\u001b[39m'\u001b[39m: kernel_size,\n\u001b[0;32m     69\u001b[0m     }\n",
      "\u001b[1;31mKeyboardInterrupt\u001b[0m: "
     ]
    }
   ],
   "source": [
    "n_samples = len(X_train)\n",
    "start = 0\n",
    "samples = range(start, start + n_samples)\n",
    "correct = 0\n",
    "for sample in samples:\n",
    "    print(f'Sample {sample}, accuracy {correct / (sample + 1e-6)}', end='\\r')\n",
    "    out = cfr.predict(X_train[sample])\n",
    "    true_label = y_train[sample]\n",
    "    correct += out == true_label"
   ]
  },
  {
   "attachments": {},
   "cell_type": "markdown",
   "id": "776cbd93",
   "metadata": {},
   "source": []
  },
  {
   "cell_type": "code",
   "execution_count": 3,
   "id": "4fcc2438",
   "metadata": {},
   "outputs": [],
   "source": [
    "import pickle\n",
    "with open('model3.pkl', 'rb') as file:\n",
    "    cfr2 = pickle.load(file)"
   ]
  },
  {
   "cell_type": "code",
   "execution_count": 4,
   "id": "1873db49",
   "metadata": {},
   "outputs": [
    {
     "ename": "KeyboardInterrupt",
     "evalue": "",
     "output_type": "error",
     "traceback": [
      "\u001b[1;31m---------------------------------------------------------------------------\u001b[0m",
      "\u001b[1;31mKeyboardInterrupt\u001b[0m                         Traceback (most recent call last)",
      "Cell \u001b[1;32mIn[4], line 1\u001b[0m\n\u001b[1;32m----> 1\u001b[0m cfr2\u001b[39m.\u001b[39;49mpredict(X_train)\n",
      "File \u001b[1;32mc:\\Users\\Shmuley\\Documents\\Courses\\ML projects\\Kaggle\\Convolutional Deep Belief Networks on CIFAR-10\\my_cnn\\CNN.py:108\u001b[0m, in \u001b[0;36mClassifier.predict\u001b[1;34m(self, images)\u001b[0m\n\u001b[0;32m    106\u001b[0m \u001b[39mdef\u001b[39;00m \u001b[39mpredict\u001b[39m(\u001b[39mself\u001b[39m, images):\n\u001b[0;32m    107\u001b[0m     \u001b[39massert\u001b[39;00m \u001b[39mself\u001b[39m\u001b[39m.\u001b[39mtrained, \u001b[39m'\u001b[39m\u001b[39mThe network was never trained\u001b[39m\u001b[39m'\u001b[39m\n\u001b[1;32m--> 108\u001b[0m     y_pred \u001b[39m=\u001b[39m [\u001b[39mself\u001b[39m\u001b[39m.\u001b[39mforward(image)\u001b[39m.\u001b[39margmax() \u001b[39mfor\u001b[39;00m image \u001b[39min\u001b[39;00m images]\n\u001b[0;32m    109\u001b[0m     \u001b[39mreturn\u001b[39;00m y_pred\n",
      "File \u001b[1;32mc:\\Users\\Shmuley\\Documents\\Courses\\ML projects\\Kaggle\\Convolutional Deep Belief Networks on CIFAR-10\\my_cnn\\CNN.py:108\u001b[0m, in \u001b[0;36m<listcomp>\u001b[1;34m(.0)\u001b[0m\n\u001b[0;32m    106\u001b[0m \u001b[39mdef\u001b[39;00m \u001b[39mpredict\u001b[39m(\u001b[39mself\u001b[39m, images):\n\u001b[0;32m    107\u001b[0m     \u001b[39massert\u001b[39;00m \u001b[39mself\u001b[39m\u001b[39m.\u001b[39mtrained, \u001b[39m'\u001b[39m\u001b[39mThe network was never trained\u001b[39m\u001b[39m'\u001b[39m\n\u001b[1;32m--> 108\u001b[0m     y_pred \u001b[39m=\u001b[39m [\u001b[39mself\u001b[39;49m\u001b[39m.\u001b[39;49mforward(image)\u001b[39m.\u001b[39margmax() \u001b[39mfor\u001b[39;00m image \u001b[39min\u001b[39;00m images]\n\u001b[0;32m    109\u001b[0m     \u001b[39mreturn\u001b[39;00m y_pred\n",
      "File \u001b[1;32mc:\\Users\\Shmuley\\Documents\\Courses\\ML projects\\Kaggle\\Convolutional Deep Belief Networks on CIFAR-10\\my_cnn\\CNN.py:53\u001b[0m, in \u001b[0;36mClassifier.forward\u001b[1;34m(self, image)\u001b[0m\n\u001b[0;32m     51\u001b[0m \u001b[39m'''Forward pass'''\u001b[39;00m\n\u001b[0;32m     52\u001b[0m layers \u001b[39m=\u001b[39m [layer\u001b[39m.\u001b[39mforward \u001b[39mfor\u001b[39;00m layer \u001b[39min\u001b[39;00m \u001b[39mself\u001b[39m\u001b[39m.\u001b[39mlayers]\n\u001b[1;32m---> 53\u001b[0m \u001b[39mreturn\u001b[39;00m functools\u001b[39m.\u001b[39;49mreduce(\u001b[39mlambda\u001b[39;49;00m x, y: y(x), layers, image)\n",
      "File \u001b[1;32mc:\\Users\\Shmuley\\Documents\\Courses\\ML projects\\Kaggle\\Convolutional Deep Belief Networks on CIFAR-10\\my_cnn\\CNN.py:53\u001b[0m, in \u001b[0;36mClassifier.forward.<locals>.<lambda>\u001b[1;34m(x, y)\u001b[0m\n\u001b[0;32m     51\u001b[0m \u001b[39m'''Forward pass'''\u001b[39;00m\n\u001b[0;32m     52\u001b[0m layers \u001b[39m=\u001b[39m [layer\u001b[39m.\u001b[39mforward \u001b[39mfor\u001b[39;00m layer \u001b[39min\u001b[39;00m \u001b[39mself\u001b[39m\u001b[39m.\u001b[39mlayers]\n\u001b[1;32m---> 53\u001b[0m \u001b[39mreturn\u001b[39;00m functools\u001b[39m.\u001b[39mreduce(\u001b[39mlambda\u001b[39;00m x, y: y(x), layers, image)\n",
      "File \u001b[1;32mc:\\Users\\Shmuley\\Documents\\Courses\\ML projects\\Kaggle\\Convolutional Deep Belief Networks on CIFAR-10\\my_cnn\\layers.py:84\u001b[0m, in \u001b[0;36mMaxPooling.forward\u001b[1;34m(self, image)\u001b[0m\n\u001b[0;32m     78\u001b[0m out \u001b[39m=\u001b[39m np\u001b[39m.\u001b[39mzeros((\n\u001b[0;32m     79\u001b[0m     h \u001b[39m/\u001b[39m\u001b[39m/\u001b[39m \u001b[39mself\u001b[39m\u001b[39m.\u001b[39mkernel_size,\n\u001b[0;32m     80\u001b[0m     w \u001b[39m/\u001b[39m\u001b[39m/\u001b[39m \u001b[39mself\u001b[39m\u001b[39m.\u001b[39mkernel_size,\n\u001b[0;32m     81\u001b[0m     n_kernels\n\u001b[0;32m     82\u001b[0m ), dtype\u001b[39m=\u001b[39mnp\u001b[39m.\u001b[39mfloat32)\n\u001b[0;32m     83\u001b[0m \u001b[39mfor\u001b[39;00m \u001b[39mslice\u001b[39m, i, j \u001b[39min\u001b[39;00m pooling_slices(image, \u001b[39mself\u001b[39m\u001b[39m.\u001b[39mkernel_size):\n\u001b[1;32m---> 84\u001b[0m     out[i, j] \u001b[39m=\u001b[39m np\u001b[39m.\u001b[39mamax(\u001b[39mslice\u001b[39m, axis\u001b[39m=\u001b[39m(\u001b[39m0\u001b[39m, \u001b[39m1\u001b[39m))\n\u001b[0;32m     85\u001b[0m \u001b[39mreturn\u001b[39;00m out\n",
      "\u001b[1;31mKeyboardInterrupt\u001b[0m: "
     ]
    }
   ],
   "source": [
    "cfr2.predict(X_train)"
   ]
  },
  {
   "cell_type": "code",
   "execution_count": 8,
   "id": "eb7cc9c1",
   "metadata": {},
   "outputs": [
    {
     "data": {
      "text/plain": [
       "28000"
      ]
     },
     "execution_count": 8,
     "metadata": {},
     "output_type": "execute_result"
    }
   ],
   "source": [
    "test_data = pd.read_csv('data/mnist_test.csv')\n",
    "len(test_data)"
   ]
  },
  {
   "cell_type": "code",
   "execution_count": 9,
   "id": "09103017",
   "metadata": {},
   "outputs": [],
   "source": [
    "X_test = test_data.to_numpy().reshape((len(test_data), 28, 28))\n",
    "X_test = (X_test / 255).astype(np.float32)"
   ]
  },
  {
   "cell_type": "code",
   "execution_count": 12,
   "id": "703076ac",
   "metadata": {},
   "outputs": [],
   "source": [
    "prediction = cfr2.predict(X_test)"
   ]
  },
  {
   "cell_type": "code",
   "execution_count": 13,
   "id": "8de4c1b3",
   "metadata": {},
   "outputs": [],
   "source": [
    "y_pred = pd.DataFrame(prediction, columns=['Label'])\n",
    "y_pred.index += 1\n",
    "y_pred['Label'].to_csv('data/submission.csv', index_label='ImageId')"
   ]
  },
  {
   "cell_type": "code",
   "execution_count": 43,
   "id": "a64a44f3",
   "metadata": {},
   "outputs": [],
   "source": [
    "def asStride(arr,sub_shape,stride):\n",
    "    '''Get a strided sub-matrices view of an ndarray.\n",
    "    See also skimage.util.shape.view_as_windows()\n",
    "    '''\n",
    "    s0,s1=arr.strides[:2]\n",
    "    m1,n1=arr.shape[:2]\n",
    "    m2,n2=sub_shape\n",
    "    view_shape=(1+(m1-m2)//stride[0],1+(n1-n2)//stride[1],m2,n2)+arr.shape[2:]\n",
    "    strides=(stride[0]*s0,stride[1]*s1,s0,s1)+arr.strides[2:]\n",
    "    subs=np.lib.stride_tricks.as_strided(arr,view_shape,strides=strides)\n",
    "    return subs\n",
    "\n",
    "def poolingOverlap(mat,ksize,stride=None,method='max',pad=False):\n",
    "    '''Overlapping pooling on 2D or 3D data.\n",
    "\n",
    "    <mat>: ndarray, input array to pool.\n",
    "    <ksize>: tuple of 2, kernel size in (ky, kx).\n",
    "    <stride>: tuple of 2 or None, stride of pooling window.\n",
    "              If None, same as <ksize> (non-overlapping pooling).\n",
    "    <method>: str, 'max for max-pooling,\n",
    "                   'mean' for mean-pooling.\n",
    "    <pad>: bool, pad <mat> or not. If no pad, output has size\n",
    "           (n-f)//s+1, n being <mat> size, f being kernel size, s stride.\n",
    "           if pad, output has size ceil(n/s).\n",
    "\n",
    "    Return <result>: pooled matrix.\n",
    "    '''\n",
    "\n",
    "    m, n = mat.shape[:2]\n",
    "    ky,kx=ksize\n",
    "    if stride is None:\n",
    "        stride=(ky,kx)\n",
    "    sy,sx=stride\n",
    "\n",
    "    _ceil=lambda x,y: int(np.ceil(x/float(y)))\n",
    "\n",
    "    if pad:\n",
    "        ny=_ceil(m,sy)\n",
    "        nx=_ceil(n,sx)\n",
    "        size=((ny-1)*sy+ky, (nx-1)*sx+kx) + mat.shape[2:]\n",
    "        mat_pad=np.full(size,np.nan)\n",
    "        mat_pad[:m,:n,...]=mat\n",
    "    else:\n",
    "        mat_pad=mat[:(m-ky)//sy*sy+ky, :(n-kx)//sx*sx+kx, ...]\n",
    "\n",
    "    view=asStride(mat_pad,ksize,stride)\n",
    "\n",
    "    if method=='max':\n",
    "        result=np.nanmax(view,axis=(2,3))\n",
    "    else:\n",
    "        result=np.nanmean(view,axis=(2,3))\n",
    "\n",
    "    return result"
   ]
  }
 ],
 "metadata": {
  "kernelspec": {
   "display_name": "TorchKernel",
   "language": "python",
   "name": "torchkernel"
  },
  "language_info": {
   "codemirror_mode": {
    "name": "ipython",
    "version": 3
   },
   "file_extension": ".py",
   "mimetype": "text/x-python",
   "name": "python",
   "nbconvert_exporter": "python",
   "pygments_lexer": "ipython3",
   "version": "3.10.9"
  }
 },
 "nbformat": 4,
 "nbformat_minor": 5
}
